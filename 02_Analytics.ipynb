{
 "cells": [
  {
   "cell_type": "markdown",
   "id": "3e06f369",
   "metadata": {},
   "source": [
    "# Analyse des données\n",
    "\n",
    "## Les biais\n",
    "\n",
    "Trois biais ont été introduits dans les données afin de mettre au jour différents comportements sociologiques.\n",
    "\n",
    "Pour vous aider, voici deux indices :\n",
    "\n",
    "- Ces biais ne concernent que des cours ou disciplines qui apparaissent dans le top 10 des cours ou disciplines les plus vus.\n",
    "- Ils portent sur trois critères:\n",
    "    - L'âge.\n",
    "    - Le genre.\n",
    "    - Le lieu de vie (Paris ou Province)."
   ]
  },
  {
   "cell_type": "code",
   "execution_count": null,
   "id": "fcda318e",
   "metadata": {},
   "outputs": [],
   "source": [
    "import pandas as pd\n",
    "import seaborn as sns\n",
    "import matplotlib.pyplot as plt\n",
    "import datetime as dt\n",
    "import zipfile\n",
    "\n",
    "COMPRESSED_CSV_FILES = 'sciencestreaming/data/compressed/csv_files_sciencestreaming.zip'\n",
    "CURRENT_YEAR = dt.datetime.now().year"
   ]
  },
  {
   "cell_type": "markdown",
   "id": "c19672a6",
   "metadata": {},
   "source": [
    "## Chargement des données\n",
    "\n",
    "### Fonction de lecture customisée"
   ]
  },
  {
   "cell_type": "code",
   "execution_count": null,
   "id": "7b4766fa",
   "metadata": {},
   "outputs": [],
   "source": [
    "def load_csv_file_from_zip(\n",
    "    csv_filename, zip_file_path=COMPRESSED_CSV_FILES, file_extension=\".csv\", dtypes=None, parse_dates=None\n",
    "):\n",
    "    with zipfile.ZipFile(zip_file_path, \"r\") as z:\n",
    "        with z.open(csv_filename + file_extension) as f:\n",
    "            return pd.read_csv(f, dtype=dtypes, parse_dates=parse_dates)"
   ]
  },
  {
   "cell_type": "markdown",
   "id": "4a812337",
   "metadata": {},
   "source": [
    "### Spécificités propres à chaque fichier CSV"
   ]
  },
  {
   "cell_type": "code",
   "execution_count": null,
   "id": "9e7a9991",
   "metadata": {},
   "outputs": [],
   "source": [
    "# view_df\n",
    "view_df_parse_dates = ['viewed_at']\n",
    "\n",
    "# user_df\n",
    "user_df_dtypes = {\n",
    " 'department_code': str,\n",
    "}\n",
    "\n",
    "user_df_parse_dates = ['birthdate', 'created_at']\n",
    "\n",
    "# schedule_df\n",
    "schedule_df_parse_dates = ['start_time', 'end_time']"
   ]
  },
  {
   "cell_type": "markdown",
   "id": "600a3cda",
   "metadata": {},
   "source": [
    "### Création des DataFrames"
   ]
  },
  {
   "cell_type": "code",
   "execution_count": null,
   "id": "194a6f90",
   "metadata": {},
   "outputs": [],
   "source": [
    "view_df = load_csv_file_from_zip('view', parse_dates=view_df_parse_dates)\n",
    "user_df = load_csv_file_from_zip('user', dtypes=user_df_dtypes, parse_dates=user_df_parse_dates)\n",
    "schedule_df = load_csv_file_from_zip('schedule', parse_dates=schedule_df_parse_dates)\n",
    "course_df = load_csv_file_from_zip('course')"
   ]
  },
  {
   "cell_type": "markdown",
   "id": "287fbf73",
   "metadata": {},
   "source": [
    "## Création du dataframe principal"
   ]
  },
  {
   "cell_type": "code",
   "execution_count": null,
   "id": "00be57b5",
   "metadata": {},
   "outputs": [],
   "source": [
    "# First, let's compute the age of the users for the current year\n",
    "user_df['age'] = CURRENT_YEAR - user_df['birthdate'].dt.year"
   ]
  },
  {
   "cell_type": "code",
   "execution_count": null,
   "id": "5e7d9705",
   "metadata": {},
   "outputs": [],
   "source": [
    "df = (\n",
    "    view_df.merge(user_df, on=\"user_id\", how=\"left\")\n",
    "           .merge(schedule_df, on=\"schedule_id\", how=\"left\")\n",
    "           .merge(course_df, on=\"course_id\", how=\"left\")\n",
    ")"
   ]
  },
  {
   "cell_type": "code",
   "execution_count": null,
   "id": "70193b71",
   "metadata": {},
   "outputs": [],
   "source": [
    "df.head(1)"
   ]
  },
  {
   "cell_type": "code",
   "execution_count": null,
   "id": "5a127923",
   "metadata": {},
   "outputs": [],
   "source": [
    "df.dtypes"
   ]
  },
  {
   "cell_type": "markdown",
   "id": "f852190d",
   "metadata": {},
   "source": [
    "## Métrique\n",
    "\n",
    "Pour mesurer la popularité des cours nous pouvons utiliser différentes métriques. Mais quelle est la meilleure ? Le nombre de connexions ? La somme, la moyenne ou la médiane des secondes vues ? Quelles informations ces différentes métriques donnent-elles ?"
   ]
  },
  {
   "cell_type": "markdown",
   "id": "b10510b4",
   "metadata": {},
   "source": [
    "## TOP 10 des cours et des disciplines les plus regardés\n",
    "\n",
    "Intéressons-nous aux cours et aux disciplines les plus regardés. Commençons par les cours, ici comme métrique nous prendrons la somme totale du temps de visionnage (autrement dit de secondes regardées).\n",
    "\n",
    "**>>>** Affichez les 10 cours les plus regardés."
   ]
  },
  {
   "cell_type": "code",
   "execution_count": null,
   "id": "a68b228b",
   "metadata": {},
   "outputs": [],
   "source": [
    "# Code here!\n"
   ]
  },
  {
   "cell_type": "markdown",
   "id": "be547b12",
   "metadata": {},
   "source": [
    "## Affichez les disciplines les plus regardées\n",
    "\n",
    "Les disciplines sont indiquées sous le nom subject_name dans le dataframe course_df."
   ]
  },
  {
   "cell_type": "code",
   "execution_count": null,
   "id": "918074ba",
   "metadata": {},
   "outputs": [],
   "source": [
    "# Code here\n"
   ]
  },
  {
   "cell_type": "markdown",
   "id": "0462ff0f",
   "metadata": {},
   "source": [
    "## La distribution des âges\n",
    "\n",
    "On sait que l'un des biais concerne l'âge des utilisateurs.\n",
    "\n",
    "**>>>** Utilisez un type de graphique pour afficher la distribution des âges des utilisateurs. Quel *dataframe* allons-nous utiliser ?"
   ]
  },
  {
   "cell_type": "code",
   "execution_count": null,
   "id": "ed2c7b8d",
   "metadata": {},
   "outputs": [],
   "source": [
    "# Code here\n"
   ]
  },
  {
   "cell_type": "markdown",
   "id": "ad64c065",
   "metadata": {},
   "source": [
    "## Le biais de l'âge\n",
    "\n",
    "Pour vous aider, sachez que ce biais est présent:\n",
    "\n",
    "- Dans 3 des cours les plus vus\n",
    "- N'apparaît que si vous sélectionnez la bonne métrique (sum? mean? median? count?)"
   ]
  },
  {
   "cell_type": "code",
   "execution_count": null,
   "id": "e9c9ff91",
   "metadata": {},
   "outputs": [],
   "source": [
    "# Code here (first course)"
   ]
  },
  {
   "cell_type": "code",
   "execution_count": null,
   "id": "f079c0da",
   "metadata": {},
   "outputs": [],
   "source": [
    "# Code here (second course)"
   ]
  },
  {
   "cell_type": "code",
   "execution_count": null,
   "id": "5be3ffdf",
   "metadata": {},
   "outputs": [],
   "source": [
    "# Code here (third course)\n"
   ]
  },
  {
   "cell_type": "markdown",
   "id": "9a9d06d0",
   "metadata": {},
   "source": [
    "## Le biais du lieu de vie\n",
    "\n",
    "Les personnes habitant en île de France (département 75) ont-elles des comportements différents lorsqu'il s'agit des disciplines regardées ?\n"
   ]
  },
  {
   "cell_type": "code",
   "execution_count": null,
   "id": "ff0bd447",
   "metadata": {},
   "outputs": [],
   "source": [
    "# Code here"
   ]
  },
  {
   "cell_type": "markdown",
   "id": "e8a18131",
   "metadata": {},
   "source": [
    "## Le biais de genre\n",
    "\n",
    "les hommes et les femmes regardent-ils les mêmes cours ?"
   ]
  },
  {
   "cell_type": "code",
   "execution_count": null,
   "id": "6e343c07",
   "metadata": {},
   "outputs": [],
   "source": [
    "#Code here"
   ]
  }
 ],
 "metadata": {
  "kernelspec": {
   "display_name": "v",
   "language": "python",
   "name": "python3"
  },
  "language_info": {
   "codemirror_mode": {
    "name": "ipython",
    "version": 3
   },
   "file_extension": ".py",
   "mimetype": "text/x-python",
   "name": "python",
   "nbconvert_exporter": "python",
   "pygments_lexer": "ipython3",
   "version": "3.13.3"
  }
 },
 "nbformat": 4,
 "nbformat_minor": 5
}
